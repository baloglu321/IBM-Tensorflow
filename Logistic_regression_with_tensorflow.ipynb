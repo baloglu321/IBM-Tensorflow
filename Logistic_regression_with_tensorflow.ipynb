{
 "cells": [
  {
   "cell_type": "markdown",
   "id": "7d545bbe-a058-4e50-b122-c78e512e1935",
   "metadata": {},
   "source": [
    "<h2>LOGISTIC REGRESSION WITH TENSORFLOW</h2>"
   ]
  },
  {
   "cell_type": "code",
   "execution_count": 1,
   "id": "1fe80b3f-ae21-425b-a517-3f88ec447453",
   "metadata": {},
   "outputs": [],
   "source": [
    "import tensorflow as tf\n",
    "import pandas as pd\n",
    "import numpy as np\n",
    "import time\n",
    "from sklearn.datasets import load_iris\n",
    "from sklearn.model_selection import train_test_split\n",
    "import matplotlib.pyplot as plt"
   ]
  },
  {
   "cell_type": "code",
   "execution_count": 2,
   "id": "ea03caee-e6b0-447e-b346-37dec74cfb14",
   "metadata": {},
   "outputs": [],
   "source": [
    "iris = load_iris()\n",
    "iris_X, iris_y = iris.data[:-1,:], iris.target[:-1]\n",
    "iris_y= pd.get_dummies(iris_y).values\n",
    "trainX, testX, trainY, testY = train_test_split(iris_X, iris_y, test_size=0.33, random_state=42)"
   ]
  },
  {
   "cell_type": "code",
   "execution_count": 3,
   "id": "a200fbe1-e4ef-4a26-bddc-ec31eb34e1ab",
   "metadata": {},
   "outputs": [
    {
     "name": "stdout",
     "output_type": "stream",
     "text": [
      "numFeatures is :  4\n",
      "numLabels is :  3\n"
     ]
    }
   ],
   "source": [
    "# numFeatures is the number of features in our input data.\n",
    "# In the iris dataset, this number is '4'.\n",
    "numFeatures = trainX.shape[1]\n",
    "print('numFeatures is : ', numFeatures )\n",
    "# numLabels is the number of classes our data points can be in.\n",
    "# In the iris dataset, this number is '3'.\n",
    "numLabels = trainY.shape[1]\n",
    "print('numLabels is : ', numLabels )\n",
    "\n",
    "#X = tf.Variable( np.identity(numFeatures), tf.TensorShape(numFeatures),dtype='float32') # Iris has 4 features, so X is a tensor to hold our data.\n",
    "#yGold = tf.Variable(np.array([1,1,1]),shape=tf.TensorShape(numLabels),dtype='float32') # This will be our correct answers matrix for 3 classes."
   ]
  },
  {
   "cell_type": "code",
   "execution_count": 4,
   "id": "a9576e71-2ace-430f-a167-973f1792087b",
   "metadata": {},
   "outputs": [],
   "source": [
    "trainX = tf.constant(trainX, dtype='float32')\n",
    "trainY = tf.constant(trainY, dtype='float32')\n",
    "testX = tf.constant(testX, dtype='float32')\n",
    "testY = tf.constant(testY, dtype='float32')"
   ]
  },
  {
   "cell_type": "code",
   "execution_count": 5,
   "id": "9cee482a-713c-499e-ae83-59c7306dc6f1",
   "metadata": {},
   "outputs": [],
   "source": [
    "W = tf.Variable(tf.zeros([4, 3]))  # 4-dimensional input and  3 classes\n",
    "b = tf.Variable(tf.zeros([3])) # 3-dimensional output [0,0,1],[0,1,0],[1,0,0]"
   ]
  },
  {
   "cell_type": "code",
   "execution_count": 6,
   "id": "e81e309a-a295-4059-bd24-738c2682eb5c",
   "metadata": {},
   "outputs": [],
   "source": [
    "#Randomly sample from a normal distribution with standard deviation .01\n",
    "\n",
    "weights = tf.Variable(tf.random.normal([numFeatures,numLabels],\n",
    "                                       mean=0.,\n",
    "                                       stddev=0.01,\n",
    "                                       name=\"weights\"),dtype='float32')\n",
    "\n",
    "\n",
    "bias = tf.Variable(tf.random.normal([1,numLabels],\n",
    "                                    mean=0.,\n",
    "                                    stddev=0.01,\n",
    "                                    name=\"bias\"))"
   ]
  },
  {
   "cell_type": "code",
   "execution_count": 7,
   "id": "d224a625-9004-4a1b-82a6-040bc8673e2f",
   "metadata": {},
   "outputs": [],
   "source": [
    "# Three-component breakdown of the Logistic Regression equation.\n",
    "# Note that these feed into each other.\n",
    "def logistic_regression(x):\n",
    "    apply_weights_OP = tf.matmul(x, weights, name=\"apply_weights\")\n",
    "    add_bias_OP = tf.add(apply_weights_OP, bias, name=\"add_bias\") \n",
    "    activation_OP = tf.nn.sigmoid(add_bias_OP, name=\"activation\")\n",
    "    return activation_OP"
   ]
  },
  {
   "cell_type": "code",
   "execution_count": 8,
   "id": "fa384887-cf78-4dca-8a3c-e44cf0fb424b",
   "metadata": {},
   "outputs": [],
   "source": [
    "# Number of Epochs in our training\n",
    "numEpochs = 700\n",
    "\n",
    "# Defining our learning rate iterations (decay)\n",
    "learningRate = tf.keras.optimizers.schedules.ExponentialDecay(initial_learning_rate=0.0008,\n",
    "                                          decay_steps=trainX.shape[0],\n",
    "                                          decay_rate= 0.95,\n",
    "                                          staircase=True)"
   ]
  },
  {
   "cell_type": "code",
   "execution_count": 9,
   "id": "e96d82e6-4589-49b9-8e33-33c2bddf3f2b",
   "metadata": {},
   "outputs": [],
   "source": [
    "#Defining our cost function - Squared Mean Error\n",
    "loss_object = tf.keras.losses.MeanSquaredLogarithmicError()\n",
    "optimizer = tf.keras.optimizers.SGD(learningRate)"
   ]
  },
  {
   "cell_type": "code",
   "execution_count": 10,
   "id": "7fedb60b-f882-477d-91cb-12574913ec39",
   "metadata": {},
   "outputs": [],
   "source": [
    "# Accuracy metric.\n",
    "def accuracy(y_pred, y_true):\n",
    "# Predicted class is the index of the highest score in prediction vector (i.e. argmax).\n",
    "\n",
    "    correct_prediction = tf.equal(tf.argmax(y_pred, 1), tf.argmax(y_true, 1))\n",
    "\n",
    "    return tf.reduce_mean(tf.cast(correct_prediction, tf.float32))"
   ]
  },
  {
   "cell_type": "code",
   "execution_count": 11,
   "id": "67e3634c-d7f9-40a6-ab4a-5dbc2a33c7aa",
   "metadata": {},
   "outputs": [],
   "source": [
    "# Optimization process. \n",
    "\n",
    "def run_optimization(x, y):\n",
    "    with tf.GradientTape() as g:\n",
    "        pred = logistic_regression(x)\n",
    "        loss = loss_object(pred, y)\n",
    "    gradients = g.gradient(loss, [weights, bias])\n",
    "    optimizer.apply_gradients(zip(gradients, [weights, bias]))"
   ]
  },
  {
   "cell_type": "code",
   "execution_count": 12,
   "id": "a74a2627-a49d-4946-8212-be3608daa530",
   "metadata": {},
   "outputs": [
    {
     "name": "stdout",
     "output_type": "stream",
     "text": [
      "step 0, training accuracy 0.32, loss 0.136767, change in loss 0.136767\n",
      "step 10, training accuracy 0.32, loss 0.136192, change in loss 0.000574201\n",
      "step 20, training accuracy 0.32, loss 0.135626, change in loss 0.000566304\n",
      "step 30, training accuracy 0.32, loss 0.135068, change in loss 0.000558406\n",
      "step 40, training accuracy 0.32, loss 0.134517, change in loss 0.000550479\n",
      "step 50, training accuracy 0.32, loss 0.133975, change in loss 0.000542521\n",
      "step 60, training accuracy 0.32, loss 0.13344, change in loss 0.000534609\n",
      "step 70, training accuracy 0.32, loss 0.132913, change in loss 0.000526682\n",
      "step 80, training accuracy 0.32, loss 0.132395, change in loss 0.000518769\n",
      "step 90, training accuracy 0.32, loss 0.131884, change in loss 0.000510871\n",
      "step 100, training accuracy 0.32, loss 0.131386, change in loss 0.000498012\n",
      "step 110, training accuracy 0.32, loss 0.130915, change in loss 0.000470653\n",
      "step 120, training accuracy 0.32, loss 0.130451, change in loss 0.000463605\n",
      "step 130, training accuracy 0.32, loss 0.129995, change in loss 0.000456601\n",
      "step 140, training accuracy 0.32, loss 0.129545, change in loss 0.000449628\n",
      "step 150, training accuracy 0.32, loss 0.129102, change in loss 0.000442699\n",
      "step 160, training accuracy 0.32, loss 0.128667, change in loss 0.00043577\n",
      "step 170, training accuracy 0.32, loss 0.128238, change in loss 0.00042896\n",
      "step 180, training accuracy 0.32, loss 0.127816, change in loss 0.00042215\n",
      "step 190, training accuracy 0.32, loss 0.1274, change in loss 0.000415415\n",
      "step 200, training accuracy 0.32, loss 0.126998, change in loss 0.000402659\n",
      "step 210, training accuracy 0.32, loss 0.126615, change in loss 0.00038223\n",
      "step 220, training accuracy 0.32, loss 0.126239, change in loss 0.000376344\n",
      "step 230, training accuracy 0.32, loss 0.125869, change in loss 0.000370443\n",
      "step 240, training accuracy 0.32, loss 0.125504, change in loss 0.000364646\n",
      "step 250, training accuracy 0.32, loss 0.125145, change in loss 0.000358865\n",
      "step 260, training accuracy 0.32, loss 0.124792, change in loss 0.000353195\n",
      "step 270, training accuracy 0.32, loss 0.124444, change in loss 0.000347547\n",
      "step 280, training accuracy 0.32, loss 0.124102, change in loss 0.000341989\n",
      "step 290, training accuracy 0.32, loss 0.123766, change in loss 0.000336476\n",
      "step 300, training accuracy 0.32, loss 0.123441, change in loss 0.000324458\n",
      "step 310, training accuracy 0.32, loss 0.123132, change in loss 0.000309601\n",
      "step 320, training accuracy 0.32, loss 0.122827, change in loss 0.000304796\n",
      "step 330, training accuracy 0.32, loss 0.122527, change in loss 0.000300065\n",
      "step 340, training accuracy 0.32, loss 0.122232, change in loss 0.000295386\n",
      "step 350, training accuracy 0.32, loss 0.121941, change in loss 0.000290766\n",
      "step 360, training accuracy 0.32, loss 0.121655, change in loss 0.000286222\n",
      "step 370, training accuracy 0.32, loss 0.121373, change in loss 0.000281706\n",
      "step 380, training accuracy 0.32, loss 0.121096, change in loss 0.000277258\n",
      "step 390, training accuracy 0.32, loss 0.120823, change in loss 0.000272892\n",
      "step 400, training accuracy 0.32, loss 0.120561, change in loss 0.000261918\n",
      "step 410, training accuracy 0.32, loss 0.120309, change in loss 0.000251286\n",
      "step 420, training accuracy 0.32, loss 0.120062, change in loss 0.000247508\n",
      "step 430, training accuracy 0.32, loss 0.119818, change in loss 0.000243768\n",
      "step 440, training accuracy 0.32, loss 0.119578, change in loss 0.000240065\n",
      "step 450, training accuracy 0.32, loss 0.119342, change in loss 0.000236444\n",
      "step 460, training accuracy 0.32, loss 0.119109, change in loss 0.00023286\n",
      "step 470, training accuracy 0.32, loss 0.118879, change in loss 0.000229321\n",
      "step 480, training accuracy 0.32, loss 0.118654, change in loss 0.000225849\n",
      "step 490, training accuracy 0.32, loss 0.118431, change in loss 0.000222407\n",
      "step 500, training accuracy 0.32, loss 0.118219, change in loss 0.000212513\n",
      "step 510, training accuracy 0.32, loss 0.118014, change in loss 0.0002051\n",
      "step 520, training accuracy 0.32, loss 0.117812, change in loss 0.000202119\n",
      "step 530, training accuracy 0.32, loss 0.117612, change in loss 0.000199214\n",
      "step 540, training accuracy 0.32, loss 0.117416, change in loss 0.000196338\n",
      "step 550, training accuracy 0.32, loss 0.117222, change in loss 0.000193506\n",
      "step 560, training accuracy 0.32, loss 0.117032, change in loss 0.00019072\n",
      "step 570, training accuracy 0.32, loss 0.116844, change in loss 0.000187963\n",
      "step 580, training accuracy 0.32, loss 0.116659, change in loss 0.000185244\n",
      "step 590, training accuracy 0.32, loss 0.116476, change in loss 0.000182591\n",
      "step 600, training accuracy 0.32, loss 0.116302, change in loss 0.00017371\n",
      "step 610, training accuracy 0.32, loss 0.116134, change in loss 0.000168659\n",
      "step 620, training accuracy 0.32, loss 0.115967, change in loss 0.000166342\n",
      "step 630, training accuracy 0.32, loss 0.115803, change in loss 0.000164084\n",
      "step 640, training accuracy 0.32, loss 0.115641, change in loss 0.000161849\n",
      "step 650, training accuracy 0.32, loss 0.115482, change in loss 0.000159644\n",
      "step 660, training accuracy 0.32, loss 0.115324, change in loss 0.000157483\n",
      "step 670, training accuracy 0.32, loss 0.115169, change in loss 0.000155337\n",
      "step 680, training accuracy 0.32, loss 0.115016, change in loss 0.000153251\n",
      "step 690, training accuracy 0.32, loss 0.114864, change in loss 0.00015118\n",
      "final accuracy on test set: 0.32\n"
     ]
    }
   ],
   "source": [
    "# Initialize reporting variables\n",
    "display_step = 10\n",
    "epoch_values = []\n",
    "accuracy_values = []\n",
    "loss_values = []\n",
    "loss = 0\n",
    "diff = 1\n",
    "# Training epochs\n",
    "for i in range(numEpochs):\n",
    "    if i > 1 and diff < .0001:\n",
    "        print(\"change in loss %g; convergence.\"%diff)\n",
    "        break\n",
    "    else:\n",
    "        # Run training step\n",
    "        run_optimization(trainX, trainY)\n",
    "        \n",
    "        # Report occasional stats\n",
    "        if i % display_step == 0:\n",
    "            # Add epoch to epoch_values\n",
    "            epoch_values.append(i)\n",
    "            \n",
    "            pred = logistic_regression(testX)\n",
    "\n",
    "            newLoss = loss_object(pred, testY)\n",
    "            # Add loss to live graphing variable\n",
    "            loss_values.append(newLoss)\n",
    "            \n",
    "            # Generate accuracy stats on test data\n",
    "            acc = accuracy(pred, testY)\n",
    "            accuracy_values.append(acc)\n",
    "            \n",
    "    \n",
    "            # Re-assign values for variables\n",
    "            diff = abs(newLoss - loss)\n",
    "            loss = newLoss\n",
    "\n",
    "            #generate print statements\n",
    "            print(\"step %d, training accuracy %g, loss %g, change in loss %g\"%(i, acc, newLoss, diff))\n",
    "\n",
    "        \n",
    "\n",
    "          \n",
    "\n",
    "# How well do we perform on held-out test data?\n",
    "print(\"final accuracy on test set: %s\" %acc.numpy())\n"
   ]
  },
  {
   "cell_type": "code",
   "execution_count": 13,
   "id": "e269dba8-0410-47fa-8291-e1c45b38f59d",
   "metadata": {},
   "outputs": [
    {
     "data": {
      "image/png": "[encoded data removed]",
      "text/plain": [
       "<Figure size 640x480 with 1 Axes>"
      ]
     },
     "metadata": {},
     "output_type": "display_data"
    }
   ],
   "source": [
    "%matplotlib inline\n",
    "import numpy as np\n",
    "import matplotlib.pyplot as plt\n",
    "plt.xlabel(\"Epoch\")\n",
    "plt.ylabel(\"Loss\")\n",
    "plt.plot(loss_values)\n",
    "plt.show()"
   ]
  },
  {
   "cell_type": "code",
   "execution_count": null,
   "id": "b409a658-a07e-4776-aa29-49f2e77231c0",
   "metadata": {},
   "outputs": [],
   "source": []
  }
 ],
 "metadata": {
  "kernelspec": {
   "display_name": "Python 3 (ipykernel)",
   "language": "python",
   "name": "python3"
  },
  "language_info": {
   "codemirror_mode": {
    "name": "ipython",
    "version": 3
   },
   "file_extension": ".py",
   "mimetype": "text/x-python",
   "name": "python",
   "nbconvert_exporter": "python",
   "pygments_lexer": "ipython3",
   "version": "3.10.11"
  }
 },
 "nbformat": 4,
 "nbformat_minor": 5
}
